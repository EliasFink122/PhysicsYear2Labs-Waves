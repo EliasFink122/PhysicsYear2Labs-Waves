{
 "cells": [
  {
   "cell_type": "code",
   "execution_count": 54,
   "metadata": {},
   "outputs": [],
   "source": [
    "import os\n",
    "from BESSEL_function import fit_bessel\n",
    "import numpy as np\n",
    "import matplotlib.pyplot as plt"
   ]
  },
  {
   "cell_type": "code",
   "execution_count": 60,
   "metadata": {},
   "outputs": [
    {
     "name": "stdout",
     "output_type": "stream",
     "text": [
      "thermal_6min.txt\n",
      "[0.172195   0.00456531 0.00956419] [449.85563071  45.87282631  87.47072711] [572.95779513 286.47889757 190.98593171]\n"
     ]
    },
    {
     "name": "stderr",
     "output_type": "stream",
     "text": [
      "/Users/eliasfink/Desktop/Git/PhysicsYear2Labs-Waves/Extensions/BesselAnalysis/BESSEL_function.py:170: RuntimeWarning: overflow encountered in double_scalars\n",
      "  term_out = term_out * (alpha * ratio)**2\n",
      "/Users/eliasfink/Desktop/Git/PhysicsYear2Labs-Waves/Extensions/BesselAnalysis/BESSEL_function.py:167: RuntimeWarning: invalid value encountered in double_scalars\n",
      "  re_out = re_out + re_coeff * term_out\n",
      "/Users/eliasfink/Desktop/Git/PhysicsYear2Labs-Waves/Extensions/BesselAnalysis/BESSEL_function.py:169: RuntimeWarning: invalid value encountered in double_scalars\n",
      "  im_out = im_out + im_coeff * term_out\n",
      "/Users/eliasfink/Desktop/Git/PhysicsYear2Labs-Waves/Extensions/BesselAnalysis/BESSEL_function.py:164: RuntimeWarning: overflow encountered in double_scalars\n",
      "  term_in = term_in * alpha**2\n",
      "/Users/eliasfink/Desktop/Git/PhysicsYear2Labs-Waves/Extensions/BesselAnalysis/BESSEL_function.py:161: RuntimeWarning: invalid value encountered in double_scalars\n",
      "  re_in = re_in + re_coeff * term_in\n",
      "/Users/eliasfink/Desktop/Git/PhysicsYear2Labs-Waves/Extensions/BesselAnalysis/BESSEL_function.py:163: RuntimeWarning: invalid value encountered in double_scalars\n",
      "  im_in = im_in + im_coeff * term_in\n"
     ]
    },
    {
     "ename": "RuntimeError",
     "evalue": "Failed to converge after 50 iterations, value is nan.",
     "output_type": "error",
     "traceback": [
      "\u001b[0;31m---------------------------------------------------------------------------\u001b[0m",
      "\u001b[0;31mRuntimeError\u001b[0m                              Traceback (most recent call last)",
      "Input \u001b[0;32mIn [60]\u001b[0m, in \u001b[0;36m<cell line: 3>\u001b[0;34m()\u001b[0m\n\u001b[1;32m     27\u001b[0m phase \u001b[38;5;241m=\u001b[39m np\u001b[38;5;241m.\u001b[39mabs(np\u001b[38;5;241m.\u001b[39marctan2(a, b))\n\u001b[1;32m     28\u001b[0m \u001b[38;5;28mprint\u001b[39m(trans[\u001b[38;5;241m1\u001b[39m:], phase[\u001b[38;5;241m1\u001b[39m:]\u001b[38;5;241m/\u001b[39mnp\u001b[38;5;241m.\u001b[39mpi\u001b[38;5;241m*\u001b[39mperiods, periods)\n\u001b[0;32m---> 30\u001b[0m \u001b[38;5;28mprint\u001b[39m(\u001b[43mfit_bessel\u001b[49m\u001b[43m(\u001b[49m\u001b[43mtrans\u001b[49m\u001b[43m[\u001b[49m\u001b[38;5;241;43m1\u001b[39;49m\u001b[43m:\u001b[49m\u001b[43m]\u001b[49m\u001b[43m,\u001b[49m\u001b[43m \u001b[49m\u001b[43mperiods\u001b[49m\u001b[43m,\u001b[49m\u001b[43m \u001b[49m\u001b[43mphase\u001b[49m\u001b[43m[\u001b[49m\u001b[38;5;241;43m1\u001b[39;49m\u001b[43m:\u001b[49m\u001b[43m]\u001b[49m\u001b[38;5;241;43m/\u001b[39;49m\u001b[43mnp\u001b[49m\u001b[38;5;241;43m.\u001b[39;49m\u001b[43mpi\u001b[49m\u001b[38;5;241;43m*\u001b[39;49m\u001b[43mperiods\u001b[49m\u001b[43m,\u001b[49m\u001b[43m \u001b[49m\u001b[43mperiods\u001b[49m\u001b[43m)\u001b[49m)\n",
      "File \u001b[0;32m~/Desktop/Git/PhysicsYear2Labs-Waves/Extensions/BesselAnalysis/BESSEL_function.py:204\u001b[0m, in \u001b[0;36mfit_bessel\u001b[0;34m(trans_data, trans_periods, phase_data, phase_periods, r_out, r_in, no_terms, alpha_initial_guess)\u001b[0m\n\u001b[1;32m    202\u001b[0m \u001b[38;5;28;01mfor\u001b[39;00m phase \u001b[38;5;129;01min\u001b[39;00m phase_data:\n\u001b[1;32m    203\u001b[0m     fourier_phase_lag \u001b[38;5;241m=\u001b[39m phase\n\u001b[0;32m--> 204\u001b[0m     b \u001b[38;5;241m=\u001b[39m \u001b[43mnewton\u001b[49m\u001b[43m(\u001b[49m\u001b[43mbessel_phase_fit\u001b[49m\u001b[43m,\u001b[49m\u001b[43mx0\u001b[49m\u001b[38;5;241;43m=\u001b[39;49m\u001b[43malpha_initial_guess\u001b[49m\u001b[43m)\u001b[49m \u001b[38;5;66;03m#secant method\u001b[39;00m\n\u001b[1;32m    205\u001b[0m     phase_alphas\u001b[38;5;241m.\u001b[39mappend(b)\n\u001b[1;32m    207\u001b[0m \u001b[38;5;66;03m#CALCULATING PHASE DIFFUSIVITY FROM ALPHA\u001b[39;00m\n",
      "File \u001b[0;32m/Library/Frameworks/Python.framework/Versions/3.10/lib/python3.10/site-packages/scipy/optimize/_zeros_py.py:369\u001b[0m, in \u001b[0;36mnewton\u001b[0;34m(func, x0, fprime, args, tol, maxiter, fprime2, x1, rtol, full_output, disp)\u001b[0m\n\u001b[1;32m    366\u001b[0m \u001b[38;5;28;01mif\u001b[39;00m disp:\n\u001b[1;32m    367\u001b[0m     msg \u001b[38;5;241m=\u001b[39m (\u001b[38;5;124m\"\u001b[39m\u001b[38;5;124mFailed to converge after \u001b[39m\u001b[38;5;132;01m%d\u001b[39;00m\u001b[38;5;124m iterations, value is \u001b[39m\u001b[38;5;132;01m%s\u001b[39;00m\u001b[38;5;124m.\u001b[39m\u001b[38;5;124m\"\u001b[39m\n\u001b[1;32m    368\u001b[0m            \u001b[38;5;241m%\u001b[39m (itr \u001b[38;5;241m+\u001b[39m \u001b[38;5;241m1\u001b[39m, p))\n\u001b[0;32m--> 369\u001b[0m     \u001b[38;5;28;01mraise\u001b[39;00m \u001b[38;5;167;01mRuntimeError\u001b[39;00m(msg)\n\u001b[1;32m    371\u001b[0m \u001b[38;5;28;01mreturn\u001b[39;00m _results_select(full_output, (p, funcalls, itr \u001b[38;5;241m+\u001b[39m \u001b[38;5;241m1\u001b[39m, _ECONVERR))\n",
      "\u001b[0;31mRuntimeError\u001b[0m: Failed to converge after 50 iterations, value is nan."
     ]
    }
   ],
   "source": [
    "nmax = 3\n",
    "\n",
    "for file in os.listdir():\n",
    "    filename = os.fsdecode(file)\n",
    "    if filename.startswith(\"thermal\") and filename[13] != 'b':\n",
    "        print(filename)\n",
    "        time, temp = np.loadtxt(filename, delimiter='\\t', skiprows=3).transpose()\n",
    "        time = 0.1*time\n",
    "        tau = int(filename[8])*60 if filename[9] == 'm' else int(filename[8:10])*60\n",
    "\n",
    "        a = np.array([])\n",
    "        b = np.array([])\n",
    "        periods = np.array([])\n",
    "        trans = np.array([])\n",
    "        phase = np.array([])\n",
    "\n",
    "        for n in range(nmax+1):\n",
    "            if n == 0:\n",
    "                a = np.append(a, 0.1/tau * sum([temp[i] for i in range(tau*10)]))\n",
    "                b = np.append(b, 0)\n",
    "                continue\n",
    "            a = np.append(a, 0.2/tau * sum([temp[i]*np.cos(2*np.pi*n*time[i]/tau) for i in range(tau*10)]))\n",
    "            b = np.append(b, 0.2/tau * sum([temp[i]*np.sin(2*np.pi*n*time[i]/tau) for i in range(tau*10)]))\n",
    "            periods = np.append(periods, 10*tau/(2*np.pi*n))\n",
    "\n",
    "        trans = np.sqrt(a**2 + b**2)/100\n",
    "        phase = np.abs(np.arctan2(a, b))\n",
    "        print(trans[1:], phase[1:]/np.pi*periods, periods)\n",
    "\n",
    "        print(fit_bessel(trans[1:], periods, phase[1:]/np.pi*periods, periods))\n",
    "\n",
    "\n",
    "        \n",
    "    \n",
    "        "
   ]
  },
  {
   "cell_type": "code",
   "execution_count": null,
   "metadata": {},
   "outputs": [],
   "source": []
  }
 ],
 "metadata": {
  "kernelspec": {
   "display_name": "Python 3",
   "language": "python",
   "name": "python3"
  },
  "language_info": {
   "codemirror_mode": {
    "name": "ipython",
    "version": 3
   },
   "file_extension": ".py",
   "mimetype": "text/x-python",
   "name": "python",
   "nbconvert_exporter": "python",
   "pygments_lexer": "ipython3",
   "version": "3.10.5"
  }
 },
 "nbformat": 4,
 "nbformat_minor": 2
}
