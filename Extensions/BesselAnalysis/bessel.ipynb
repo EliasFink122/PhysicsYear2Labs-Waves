{
 "cells": [
  {
   "cell_type": "code",
   "execution_count": 2,
   "metadata": {},
   "outputs": [],
   "source": [
    "import os\n",
    "from BESSEL_function import fit_bessel\n",
    "import numpy as np\n",
    "import matplotlib.pyplot as plt"
   ]
  },
  {
   "cell_type": "code",
   "execution_count": null,
   "metadata": {},
   "outputs": [],
   "source": [
    "nmax = 5\n",
    "\n",
    "for file in os.listdir():\n",
    "    filename = os.fsdecode(file)\n",
    "    if filename.startswith(\"thermal\") and filename[13] != 'b':\n",
    "        time, temp = np.loadtxt(filename, delimiter='\\t', skiprows=3).transpose()\n",
    "        time = 0.1*time\n",
    "        tau = int(filename[8])*60 if filename[9] == 'm' else int(filename[8:10])*60\n",
    "\n",
    "        a = np.array([])\n",
    "        b = np.array([])\n",
    "        trans = np.array([])\n",
    "        phase = np.array([])\n",
    "\n",
    "        for n in range(nmax+1):\n",
    "            if n == 0:\n",
    "                a = np.append(a, 0.1/tau * sum([temp[i] for i in range(tau*10)]))\n",
    "                b = np.append(b, 0)\n",
    "                continue\n",
    "            a = np.append(a, 0.2/tau * sum([temp[i]*np.cos(2*np.pi*n*time[i]/tau) for i in range(tau*10)]))\n",
    "            b = np.append(b, 0.2/tau * sum([temp[i]*np.sin(2*np.pi*n*time[i]/tau) for i in range(tau*10)]))\n",
    "\n",
    "            trans = np.append(trans, a**2 + b**2)\n",
    "            phase = np.append(phase, np.arctan2(a, b))\n",
    "\n",
    "        \n",
    "        "
   ]
  }
 ],
 "metadata": {
  "kernelspec": {
   "display_name": "Python 3",
   "language": "python",
   "name": "python3"
  },
  "language_info": {
   "codemirror_mode": {
    "name": "ipython",
    "version": 3
   },
   "file_extension": ".py",
   "mimetype": "text/x-python",
   "name": "python",
   "nbconvert_exporter": "python",
   "pygments_lexer": "ipython3",
   "version": "3.10.5"
  }
 },
 "nbformat": 4,
 "nbformat_minor": 2
}
