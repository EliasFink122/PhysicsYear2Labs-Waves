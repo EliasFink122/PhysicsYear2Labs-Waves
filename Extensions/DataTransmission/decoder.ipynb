{
 "cells": [
  {
   "cell_type": "code",
   "execution_count": 4,
   "metadata": {},
   "outputs": [],
   "source": [
    "import math\n",
    "import sklearn\n",
    "from sklearn import datasets\n",
    "from sklearn import svm\n",
    "from sklearn import metrics\n",
    "import numpy as np\n",
    "import matplotlib.pyplot as plt"
   ]
  },
  {
   "cell_type": "code",
   "execution_count": null,
   "metadata": {},
   "outputs": [],
   "source": [
    "# -- Import data --\n",
    "\n",
    "ts, vs = np.loadtxt(\"fname\", delimiter=',', skiprows=1).transpose()[0, 1]\n",
    "\n",
    "plt.plot(ts, vs)\n",
    "plt.show()"
   ]
  },
  {
   "cell_type": "code",
   "execution_count": null,
   "metadata": {},
   "outputs": [],
   "source": [
    "# -- Organise data --\n",
    "\n",
    "nbits = 56\n",
    "start = 0.01\n",
    "end = 0.39\n",
    "\n",
    "for i, t in enumerate(ts):\n",
    "    if t < start or t > end:\n",
    "        del ts[i]\n",
    "        del vs[i]\n",
    "\n",
    "intervals = []\n",
    "for i in range(nbits):\n",
    "    intervals.append([vs[int(len(vs)/nbits)*i + n] for n in range(int(len(vs)/nbits))])\n",
    "\n",
    "X = [[np.mean(interval)] for interval in intervals]\n",
    "y = []"
   ]
  },
  {
   "cell_type": "code",
   "execution_count": 2,
   "metadata": {},
   "outputs": [],
   "source": [
    "# -- Train machine learning model --\n",
    "\n",
    "clf = svm.SVC(kernel=\"linear\", C=2)\n",
    "clf.fit(X, y)\n",
    "\n"
   ]
  },
  {
   "cell_type": "code",
   "execution_count": null,
   "metadata": {},
   "outputs": [],
   "source": [
    "# -- Identify bits --\n",
    "\n",
    "bits = clf.predict(X)"
   ]
  },
  {
   "cell_type": "code",
   "execution_count": 3,
   "metadata": {},
   "outputs": [
    {
     "data": {
      "text/plain": [
       "'NCC-1701'"
      ]
     },
     "execution_count": 3,
     "metadata": {},
     "output_type": "execute_result"
    }
   ],
   "source": [
    "# -- Decode ASCII characters --\n",
    "\n",
    "# Test case\n",
    "bits = [1, 0, 0, 1, 1, 1, 0, 1, 0, 0, 0, 0, 1, 1, 1, 0, 0, 0, 0, 1, 1, 0, 1, 0, 1, 1, 0, 1, 0, 1, 1, 0, 0, 0, 1, 0, 1, 1, 0, 1, 1, 1, 0, 1, 1, 0, 0, 0, 0, 0, 1, 1, 0, 0, 0, 1]\n",
    "\n",
    "def decode(bits):\n",
    "    if len(bits)%7 != 0:\n",
    "        return \"Decoding error 1: Not ASCII sequence.\"\n",
    "    bit_strings = []\n",
    "    for i in range(int(len(bits)/7)):\n",
    "        bit_string = ''.join([str(bits[7*i + n]) for n in range(7)])\n",
    "        bit_strings.append(bit_string)\n",
    "    \n",
    "    letters = []\n",
    "    for bitstr in bit_strings:\n",
    "        num = int('0b' + bitstr, 2)\n",
    "        letters.append(chr(num))\n",
    "\n",
    "    return ''.join(letters)\n",
    "decode(bits)"
   ]
  }
 ],
 "metadata": {
  "kernelspec": {
   "display_name": "Python (tensorflow)",
   "language": "python",
   "name": "tensorflow"
  },
  "language_info": {
   "codemirror_mode": {
    "name": "ipython",
    "version": 3
   },
   "file_extension": ".py",
   "mimetype": "text/x-python",
   "name": "python",
   "nbconvert_exporter": "python",
   "pygments_lexer": "ipython3",
   "version": "3.10.13"
  }
 },
 "nbformat": 4,
 "nbformat_minor": 2
}
