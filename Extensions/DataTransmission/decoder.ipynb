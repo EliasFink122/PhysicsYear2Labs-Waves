{
 "cells": [
  {
   "cell_type": "code",
   "execution_count": null,
   "metadata": {},
   "outputs": [],
   "source": [
    "import math"
   ]
  },
  {
   "cell_type": "code",
   "execution_count": 3,
   "metadata": {},
   "outputs": [
    {
     "name": "stdout",
     "output_type": "stream",
     "text": [
      "56\n"
     ]
    }
   ],
   "source": [
    "# Identify bits\n",
    "\n",
    "bits = [1, 0, 0, 1, 1, 1, 0, 1, 0, 0, 0, 0, 1, 1, 1, 0, 0, 0, 0, 1, 1, 0, 1, 0, 1, 1, 0, 1, 0, 1, 1, 0, 0, 0, 1, 0, 1, 1, 0, 1, 1, 1, 0, 1, 1, 0, 0, 0, 0, 0, 1, 1, 0, 0, 0, 1]"
   ]
  },
  {
   "cell_type": "code",
   "execution_count": 12,
   "metadata": {},
   "outputs": [
    {
     "data": {
      "text/plain": [
       "'NCC-1701'"
      ]
     },
     "execution_count": 12,
     "metadata": {},
     "output_type": "execute_result"
    }
   ],
   "source": [
    "# Decode ASCII characters\n",
    "\n",
    "def decode(bits):\n",
    "    if len(bits)%7 != 0:\n",
    "        return \"Decoding error 1: Not ASCII sequence.\"\n",
    "    bit_strings = []\n",
    "    for i in range(int(len(bits)/7)):\n",
    "        bit_string = ''.join([str(bits[7*i + n]) for n in range(7)])\n",
    "        bit_strings.append(bit_string)\n",
    "    \n",
    "    letters = []\n",
    "    for bitstr in bit_strings:\n",
    "        num = int('0b' + bitstr, 2)\n",
    "        letters.append(chr(num))\n",
    "\n",
    "    return ''.join(letters)\n",
    "decode(bits)"
   ]
  }
 ],
 "metadata": {
  "kernelspec": {
   "display_name": "Python 3",
   "language": "python",
   "name": "python3"
  },
  "language_info": {
   "codemirror_mode": {
    "name": "ipython",
    "version": 3
   },
   "file_extension": ".py",
   "mimetype": "text/x-python",
   "name": "python",
   "nbconvert_exporter": "python",
   "pygments_lexer": "ipython3",
   "version": "3.10.5"
  }
 },
 "nbformat": 4,
 "nbformat_minor": 2
}
