{
 "cells": [
  {
   "cell_type": "code",
   "execution_count": 4,
   "metadata": {},
   "outputs": [],
   "source": [
    "import math"
   ]
  },
  {
   "cell_type": "code",
   "execution_count": 2,
   "metadata": {},
   "outputs": [],
   "source": [
    "def encode(input):\n",
    "    a, b, c = [], [], []\n",
    "\n",
    "    # Text -> ASCII\n",
    "    for t in input:\n",
    "        a.append(ord(t))\n",
    "\n",
    "    # ASCII -> binary string\n",
    "    for num in a:\n",
    "        b.append(str(bin(num)[2:]))\n",
    "\n",
    "    # Binary string -> binary singlets\n",
    "    for bo in b:\n",
    "        bo = bo.rjust(7, '0')\n",
    "        for l in bo:\n",
    "            c.append(int(l))\n",
    "\n",
    "    return c, len(c)"
   ]
  },
  {
   "cell_type": "code",
   "execution_count": 4,
   "metadata": {},
   "outputs": [
    {
     "name": "stdout",
     "output_type": "stream",
     "text": [
      "([1, 1, 0, 1, 0, 0, 0, 1, 1, 0, 1, 0, 0, 1], 14)\n"
     ]
    }
   ],
   "source": [
    "print(encode(\"hi\"))"
   ]
  },
  {
   "cell_type": "code",
   "execution_count": null,
   "metadata": {},
   "outputs": [],
   "source": []
  }
 ],
 "metadata": {
  "kernelspec": {
   "display_name": "Python 3",
   "language": "python",
   "name": "python3"
  },
  "language_info": {
   "codemirror_mode": {
    "name": "ipython",
    "version": 3
   },
   "file_extension": ".py",
   "mimetype": "text/x-python",
   "name": "python",
   "nbconvert_exporter": "python",
   "pygments_lexer": "ipython3",
   "version": "3.10.5"
  }
 },
 "nbformat": 4,
 "nbformat_minor": 2
}
